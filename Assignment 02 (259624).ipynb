{
 "cells": [
  {
   "cell_type": "code",
   "execution_count": 3,
   "id": "698b714e-92cc-4874-9a9b-b5e77b20d37f",
   "metadata": {},
   "outputs": [
    {
     "name": "stdout",
     "output_type": "stream",
     "text": [
      "\n",
      "Grocery Shopping List\n",
      "1. Add Item\n",
      "2. Remove Item\n",
      "3. Display List\n",
      "4. Exit\n"
     ]
    },
    {
     "name": "stdin",
     "output_type": "stream",
     "text": [
      "Choose an option (1-4):  1\n",
      "Enter the item to add:  Apple\n"
     ]
    },
    {
     "name": "stdout",
     "output_type": "stream",
     "text": [
      "'Apple' has been added to the list.\n",
      "\n",
      "Grocery Shopping List\n",
      "1. Add Item\n",
      "2. Remove Item\n",
      "3. Display List\n",
      "4. Exit\n"
     ]
    },
    {
     "name": "stdin",
     "output_type": "stream",
     "text": [
      "Choose an option (1-4):  1\n",
      "Enter the item to add:  Banana\n"
     ]
    },
    {
     "name": "stdout",
     "output_type": "stream",
     "text": [
      "'Banana' has been added to the list.\n",
      "\n",
      "Grocery Shopping List\n",
      "1. Add Item\n",
      "2. Remove Item\n",
      "3. Display List\n",
      "4. Exit\n"
     ]
    },
    {
     "name": "stdin",
     "output_type": "stream",
     "text": [
      "Choose an option (1-4):  1\n",
      "Enter the item to add:  Chicken\n"
     ]
    },
    {
     "name": "stdout",
     "output_type": "stream",
     "text": [
      "'Chicken' has been added to the list.\n",
      "\n",
      "Grocery Shopping List\n",
      "1. Add Item\n",
      "2. Remove Item\n",
      "3. Display List\n",
      "4. Exit\n"
     ]
    },
    {
     "name": "stdin",
     "output_type": "stream",
     "text": [
      "Choose an option (1-4):  1\n",
      "Enter the item to add:  Milk\n"
     ]
    },
    {
     "name": "stdout",
     "output_type": "stream",
     "text": [
      "'Milk' has been added to the list.\n",
      "\n",
      "Grocery Shopping List\n",
      "1. Add Item\n",
      "2. Remove Item\n",
      "3. Display List\n",
      "4. Exit\n"
     ]
    },
    {
     "name": "stdin",
     "output_type": "stream",
     "text": [
      "Choose an option (1-4):  3\n"
     ]
    },
    {
     "name": "stdout",
     "output_type": "stream",
     "text": [
      "\n",
      "Current Grocery List:\n",
      "1. Apple\n",
      "2. Banana\n",
      "3. Chicken\n",
      "4. Milk\n",
      "\n",
      "Grocery Shopping List\n",
      "1. Add Item\n",
      "2. Remove Item\n",
      "3. Display List\n",
      "4. Exit\n"
     ]
    },
    {
     "name": "stdin",
     "output_type": "stream",
     "text": [
      "Choose an option (1-4):  2\n",
      "Enter the item to remove:  Banana\n"
     ]
    },
    {
     "name": "stdout",
     "output_type": "stream",
     "text": [
      "'Banana' has been removed from the list.\n",
      "\n",
      "Grocery Shopping List\n",
      "1. Add Item\n",
      "2. Remove Item\n",
      "3. Display List\n",
      "4. Exit\n"
     ]
    },
    {
     "name": "stdin",
     "output_type": "stream",
     "text": [
      "Choose an option (1-4):  3\n"
     ]
    },
    {
     "name": "stdout",
     "output_type": "stream",
     "text": [
      "\n",
      "Current Grocery List:\n",
      "1. Apple\n",
      "2. Chicken\n",
      "3. Milk\n",
      "\n",
      "Grocery Shopping List\n",
      "1. Add Item\n",
      "2. Remove Item\n",
      "3. Display List\n",
      "4. Exit\n"
     ]
    },
    {
     "name": "stdin",
     "output_type": "stream",
     "text": [
      "Choose an option (1-4):  4\n"
     ]
    },
    {
     "name": "stdout",
     "output_type": "stream",
     "text": [
      "Exiting the program. Take care!\n"
     ]
    }
   ],
   "source": [
    "# Grocery Shopping List\n",
    "\n",
    "def display_menu():\n",
    "    print(\"\\nGrocery Shopping List\")\n",
    "    print(\"1. Add Item\")\n",
    "    print(\"2. Remove Item\")\n",
    "    print(\"3. Display List\")\n",
    "    print(\"4. Exit\")\n",
    "\n",
    "def add_item(grocery_list):\n",
    "    item = input(\"Enter the item to add: \").strip()\n",
    "    if item:\n",
    "        grocery_list.append(item)\n",
    "        print(f\"'{item}' has been added to the list.\")\n",
    "    else:\n",
    "        print(\"Item cannot be empty.\")\n",
    "\n",
    "def remove_item(grocery_list):\n",
    "    item = input(\"Enter the item to remove: \").strip()\n",
    "    if item in grocery_list:\n",
    "        grocery_list.remove(item)\n",
    "        print(f\"'{item}' has been removed from the list.\")\n",
    "    else:\n",
    "        print(f\"'{item}' is not in the list.\")\n",
    "\n",
    "def display_list(grocery_list):\n",
    "    if grocery_list:\n",
    "        print(\"\\nCurrent Grocery List:\")\n",
    "        for idx, item in enumerate(grocery_list, 1):\n",
    "            print(f\"{idx}. {item}\")\n",
    "    else:\n",
    "        print(\"The grocery list is empty.\")\n",
    "\n",
    "def main():\n",
    "    grocery_list = []\n",
    "    while True:\n",
    "        display_menu()\n",
    "        choice = input(\"Choose an option (1-4): \").strip()\n",
    "        \n",
    "        if choice == '1':\n",
    "            add_item(grocery_list)\n",
    "        elif choice == '2':\n",
    "            remove_item(grocery_list)\n",
    "        elif choice == '3':\n",
    "            display_list(grocery_list)\n",
    "        elif choice == '4':\n",
    "            print(\"Exiting the program. Take care!\")\n",
    "            break\n",
    "        else:\n",
    "            print(\"Invalid choice. Please select a valid option.\")\n",
    "\n",
    "if __name__ == \"__main__\":\n",
    "    main()"
   ]
  },
  {
   "cell_type": "code",
   "execution_count": 5,
   "id": "abab8e23-dc31-41c8-b4e5-d68e05fa3a73",
   "metadata": {},
   "outputs": [
    {
     "name": "stdout",
     "output_type": "stream",
     "text": [
      "The average grade for the students is: 85.00\n"
     ]
    }
   ],
   "source": [
    "# Managing student grades\n",
    "\n",
    "student_grades = {\n",
    "    \"Bilal\": 80,\n",
    "    \"Sadiq\": 95,\n",
    "    \"Salman\": 72,\n",
    "    \"Anas\": 91,\n",
    "    \"Asif\": 87\n",
    "}\n",
    "\n",
    "# Calculate the average grade\n",
    "def calculate_average(grades_dict):\n",
    "    total = sum(grades_dict.values())\n",
    "    count = len(grades_dict)\n",
    "    average = total / count\n",
    "    return average\n",
    "\n",
    "# Calculate and print the average grade\n",
    "average_grade = calculate_average(student_grades)\n",
    "print(f\"The average grade for the students is: {average_grade:.2f}\")"
   ]
  },
  {
   "cell_type": "code",
   "execution_count": 6,
   "id": "e7a95d25-b7d7-4e92-a283-c838af0a784f",
   "metadata": {},
   "outputs": [
    {
     "name": "stdout",
     "output_type": "stream",
     "text": [
      "apple: 3\n",
      "banana: 2\n",
      "orange: 1\n",
      "grape: 1\n"
     ]
    }
   ],
   "source": [
    "# List of words\n",
    "word_list = [\"apple\", \"banana\", \"apple\", \"orange\", \"banana\", \"grape\", \"apple\"]\n",
    "\n",
    "# Dictionary to store word frequencies\n",
    "word_count = {}\n",
    "\n",
    "# Counting the frequency of each word\n",
    "for word in word_list:\n",
    "    if word in word_count:\n",
    "        word_count[word] += 1\n",
    "    else:\n",
    "        word_count[word] = 1\n",
    "\n",
    "# Printing the word frequencies\n",
    "for word, count in word_count.items():\n",
    "    print(f\"{word}: {count}\")"
   ]
  },
  {
   "cell_type": "code",
   "execution_count": 11,
   "id": "12b842a0-13f3-4a52-a8a0-374d505fa2c2",
   "metadata": {},
   "outputs": [
    {
     "name": "stdin",
     "output_type": "stream",
     "text": [
      "Enter your password:  Pakistan14\n"
     ]
    },
    {
     "name": "stdout",
     "output_type": "stream",
     "text": [
      "Strong: Your password meets all the criteria!\n"
     ]
    }
   ],
   "source": [
    "import re\n",
    "\n",
    "def check_password_strength(password):\n",
    "    # Check if the password is at least 8 characters long\n",
    "    if len(password) < 8:\n",
    "        return \"Weak: Password should be at least 8 characters long.\"\n",
    "    \n",
    "    # Check if the password contains at least one digit\n",
    "    if not re.search(r\"\\d\", password):\n",
    "        return \"Weak: Password should contain at least one digit.\"\n",
    "    \n",
    "    # Check if the password contains at least one letter\n",
    "    if not re.search(r\"[a-zA-Z]\", password):\n",
    "        return \"Weak: Password should contain at least one letter.\"\n",
    "    \n",
    "    return \"Strong: Your password meets all the criteria!\"\n",
    "\n",
    "# Example usage\n",
    "password = input(\"Enter your password: \")\n",
    "result = check_password_strength(password)\n",
    "print(result)"
   ]
  },
  {
   "cell_type": "code",
   "execution_count": 12,
   "id": "3be60185-fd3b-4ef4-9b1f-8a2b40c3ce5d",
   "metadata": {},
   "outputs": [
    {
     "name": "stdin",
     "output_type": "stream",
     "text": [
      "Enter the number of voters:  1\n"
     ]
    },
    {
     "name": "stdout",
     "output_type": "stream",
     "text": [
      "\n",
      "Nominees:\n",
      "1. Candidate A\n",
      "2. Candidate B\n",
      "3. Candidate C\n"
     ]
    },
    {
     "name": "stdin",
     "output_type": "stream",
     "text": [
      "\n",
      "Voter 1, enter the number of your preferred candidate (1-3):  2\n"
     ]
    },
    {
     "name": "stdout",
     "output_type": "stream",
     "text": [
      "Vote recorded for Candidate B.\n",
      "\n",
      "Voting Results:\n",
      "Candidate A: 0 votes\n",
      "Candidate B: 1 votes\n",
      "Candidate C: 0 votes\n"
     ]
    }
   ],
   "source": [
    "# List of candidates for the awards\n",
    "candidates = [\"Candidate A\", \"Candidate B\", \"Candidate C\"]\n",
    "\n",
    "# Dictionary to store the vote counts for each candidate\n",
    "vote_counts = {candidate: 0 for candidate in candidates}\n",
    "\n",
    "def display_candidates():\n",
    "    print(\"\\nNominees:\")\n",
    "    for idx, candidate in enumerate(candidates, start=1):\n",
    "        print(f\"{idx}. {candidate}\")\n",
    "\n",
    "def record_vote(voter_num):\n",
    "    while True:\n",
    "        try:\n",
    "            vote = int(input(f\"\\nVoter {voter_num}, enter the number of your preferred candidate (1-{len(candidates)}): \"))\n",
    "            if 1 <= vote <= len(candidates):\n",
    "                selected_candidate = candidates[vote - 1]\n",
    "                vote_counts[selected_candidate] += 1\n",
    "                print(f\"Vote recorded for {selected_candidate}.\")\n",
    "                break\n",
    "            else:\n",
    "                print(f\"Invalid choice. Please select a number between 1 and {len(candidates)}.\")\n",
    "        except ValueError:\n",
    "            print(\"Invalid input. Please enter a valid number.\")\n",
    "\n",
    "def display_results():\n",
    "    print(\"\\nVoting Results:\")\n",
    "    for candidate, votes in vote_counts.items():\n",
    "        print(f\"{candidate}: {votes} votes\")\n",
    "\n",
    "def main():\n",
    "    try:\n",
    "        num_voters = int(input(\"Enter the number of voters: \"))\n",
    "        if num_voters <= 0:\n",
    "            print(\"The number of voters must be positive.\")\n",
    "            return\n",
    "    except ValueError:\n",
    "        print(\"Invalid input. Please enter a valid number.\")\n",
    "        return\n",
    "\n",
    "    # Display the candidates\n",
    "    display_candidates()\n",
    "\n",
    "    # Record votes\n",
    "    for voter_num in range(1, num_voters + 1):\n",
    "        record_vote(voter_num)\n",
    "\n",
    "    # Display the results\n",
    "    display_results()\n",
    "\n",
    "if __name__ == \"__main__\":\n",
    "    main()"
   ]
  },
  {
   "cell_type": "code",
   "execution_count": null,
   "id": "8397df38-78f0-418a-b3ef-25b0b9582721",
   "metadata": {},
   "outputs": [],
   "source": []
  }
 ],
 "metadata": {
  "kernelspec": {
   "display_name": "Python 3 (ipykernel)",
   "language": "python",
   "name": "python3"
  },
  "language_info": {
   "codemirror_mode": {
    "name": "ipython",
    "version": 3
   },
   "file_extension": ".py",
   "mimetype": "text/x-python",
   "name": "python",
   "nbconvert_exporter": "python",
   "pygments_lexer": "ipython3",
   "version": "3.11.7"
  }
 },
 "nbformat": 4,
 "nbformat_minor": 5
}
